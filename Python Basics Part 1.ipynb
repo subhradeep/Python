{
 "cells": [
  {
   "cell_type": "markdown",
   "metadata": {},
   "source": [
    "### Python Basics"
   ]
  },
  {
   "cell_type": "markdown",
   "metadata": {},
   "source": [
    "#### Variables"
   ]
  },
  {
   "cell_type": "code",
   "execution_count": 50,
   "metadata": {},
   "outputs": [
    {
     "name": "stdout",
     "output_type": "stream",
     "text": [
      "2\n",
      "<class 'int'>\n"
     ]
    }
   ],
   "source": [
    "#integer\n",
    "num = 2\n",
    "print(num)\n",
    "print(type(num))"
   ]
  },
  {
   "cell_type": "code",
   "execution_count": 51,
   "metadata": {},
   "outputs": [
    {
     "name": "stdout",
     "output_type": "stream",
     "text": [
      "2.3\n",
      "<class 'float'>\n"
     ]
    }
   ],
   "source": [
    "#float\n",
    "num = 2.3\n",
    "print(num)\n",
    "print(type(num))"
   ]
  },
  {
   "cell_type": "markdown",
   "metadata": {},
   "source": [
    "#### Type Conversion from String to float"
   ]
  },
  {
   "cell_type": "code",
   "execution_count": 52,
   "metadata": {},
   "outputs": [
    {
     "name": "stdout",
     "output_type": "stream",
     "text": [
      "Type before Conversion <class 'str'>\n",
      "Type after Conversion <class 'float'>\n"
     ]
    }
   ],
   "source": [
    "my_string = '3.1425'\n",
    "print('Type before Conversion',type(my_string))\n",
    "my_string = float(my_string)\n",
    "print('Type after Conversion',type(my_string))"
   ]
  },
  {
   "cell_type": "code",
   "execution_count": 53,
   "metadata": {},
   "outputs": [
    {
     "name": "stdout",
     "output_type": "stream",
     "text": [
      "Hi\n",
      "<class 'str'>\n"
     ]
    }
   ],
   "source": [
    "#String\n",
    "my_string = \"Hi\"\n",
    "print(my_string)\n",
    "print(type(my_string))"
   ]
  },
  {
   "cell_type": "markdown",
   "metadata": {},
   "source": [
    "#### Data Structures\n",
    "\n",
    "List"
   ]
  },
  {
   "cell_type": "code",
   "execution_count": 54,
   "metadata": {},
   "outputs": [
    {
     "name": "stdout",
     "output_type": "stream",
     "text": [
      "[2, 2.5, 'My String']\n",
      "[2, 'My String', 3, 4, 5, 6]\n"
     ]
    }
   ],
   "source": [
    "#List\n",
    "list1 = []\n",
    "list1.append(2)\n",
    "list1.append(2.5)\n",
    "list1.append('My String')\n",
    "print(list1)\n",
    "list1.remove(2.5)\n",
    "list1.append(3)\n",
    "list1.append(4)\n",
    "list1.append(5)\n",
    "list1.append(6)\n",
    "print(list1)\n"
   ]
  },
  {
   "cell_type": "markdown",
   "metadata": {},
   "source": [
    "#### Subsetting a list"
   ]
  },
  {
   "cell_type": "code",
   "execution_count": 55,
   "metadata": {},
   "outputs": [
    {
     "name": "stdout",
     "output_type": "stream",
     "text": [
      "First element of list is: 2\n",
      "The last element of the list is: 6\n",
      "\n",
      " List of elements \n",
      " [2, 'My String', 3, 4, 5, 6]\n",
      "\n",
      " Finding the index of elements in a list \n",
      "\n",
      "My String is at index : 1\n"
     ]
    }
   ],
   "source": [
    "print('First element of list is:',list1[0])\n",
    "print('The last element of the list is:',list1[-1])\n",
    "\n",
    "print('\\n List of elements \\n',list1)\n",
    "print('\\n Finding the index of elements in a list \\n')\n",
    "print('My String is at index :',list1.index('My String'))"
   ]
  },
  {
   "cell_type": "markdown",
   "metadata": {},
   "source": [
    "#### Subset and calculate"
   ]
  },
  {
   "cell_type": "code",
   "execution_count": 56,
   "metadata": {},
   "outputs": [
    {
     "name": "stdout",
     "output_type": "stream",
     "text": [
      "Sum of two elements of list is  8\n"
     ]
    }
   ],
   "source": [
    "s = list1[0]+list1[-1]\n",
    "print('Sum of two elements of list is ',s)"
   ]
  },
  {
   "cell_type": "markdown",
   "metadata": {},
   "source": [
    "#### Slicing and dicing in Python List"
   ]
  },
  {
   "cell_type": "code",
   "execution_count": 57,
   "metadata": {},
   "outputs": [
    {
     "name": "stdout",
     "output_type": "stream",
     "text": [
      "List is  [2, 'My String', 3, 4, 5, 6]\n",
      "List of slicing after 2nd element  [3, 4, 5, 6]\n"
     ]
    }
   ],
   "source": [
    "print('List is ',list1)\n",
    "print('List of slicing after 2nd element ',list1[2:])\n"
   ]
  },
  {
   "cell_type": "markdown",
   "metadata": {},
   "source": [
    "#### Replacing element in a list"
   ]
  },
  {
   "cell_type": "code",
   "execution_count": 58,
   "metadata": {},
   "outputs": [
    {
     "name": "stdout",
     "output_type": "stream",
     "text": [
      "Before replacement, the list value is : [2, 'My String', 3, 4, 5, 6]\n",
      "After replacement, the list value is : [2, 'My String', 'replaced element', 4, 5, 6]\n"
     ]
    }
   ],
   "source": [
    "print('Before replacement, the list value is :',list1)\n",
    "list1[2] = 'replaced element'\n",
    "print('After replacement, the list value is :',list1)\n"
   ]
  },
  {
   "cell_type": "markdown",
   "metadata": {},
   "source": [
    "#### Extending a list"
   ]
  },
  {
   "cell_type": "code",
   "execution_count": 62,
   "metadata": {},
   "outputs": [
    {
     "name": "stdout",
     "output_type": "stream",
     "text": [
      "After extension, the list value is : ['extended', 2, 'My String', 'replaced element', 4, 5, 6, 'extended', 'extended', 'extended']\n",
      "None\n"
     ]
    }
   ],
   "source": [
    "list1 = list1+['extended']\n",
    "print('After extension, the list value is :',list1)\n",
    "\n",
    "list2 = [1,2,3,4,5,6]\n",
    "print(list2.reverse())"
   ]
  },
  {
   "cell_type": "markdown",
   "metadata": {},
   "source": [
    "#### Deletion of list"
   ]
  },
  {
   "cell_type": "code",
   "execution_count": 11,
   "metadata": {},
   "outputs": [
    {
     "name": "stdout",
     "output_type": "stream",
     "text": [
      "Before Deletion, the list value is : [2, 'My String', 'replaced element', 4, 5, 6, 'extended']\n",
      "After deletion of 3rd element[4], the list value is :\n"
     ]
    },
    {
     "data": {
      "text/plain": [
       "[2, 'My String', 'replaced element', 5, 6, 'extended']"
      ]
     },
     "execution_count": 11,
     "metadata": {},
     "output_type": "execute_result"
    }
   ],
   "source": [
    "print('Before Deletion, the list value is :',list1)\n",
    "print('After deletion of 3rd element[4], the list value is :') \n",
    "del(list1[3])\n",
    "list1\n"
   ]
  },
  {
   "cell_type": "markdown",
   "metadata": {},
   "source": [
    "#### String Methods"
   ]
  },
  {
   "cell_type": "code",
   "execution_count": 37,
   "metadata": {},
   "outputs": [
    {
     "name": "stdout",
     "output_type": "stream",
     "text": [
      "Type of variable <class 'str'>\n",
      "Upper Case of string using upper HELLO\n",
      "Upper Case of string using lower hello\n",
      "First letter of capital Hello\n",
      "Count of l in my_string using count method 2\n"
     ]
    }
   ],
   "source": [
    "my_string = 'Hello'\n",
    "print('Type of variable',type(my_string))\n",
    "\n",
    "#Upper Case and lower case\n",
    "print('Upper Case of string using upper',my_string.upper())\n",
    "\n",
    "print('Upper Case of string using lower',my_string.lower())\n",
    "\n",
    "print('First letter of capital',my_string.capitalize())\n",
    "\n",
    "print('Count of l in my_string using count method',my_string.count('l'))\n"
   ]
  },
  {
   "cell_type": "markdown",
   "metadata": {},
   "source": [
    "#### Input from user"
   ]
  },
  {
   "cell_type": "code",
   "execution_count": 12,
   "metadata": {},
   "outputs": [
    {
     "name": "stdout",
     "output_type": "stream",
     "text": [
      "Enter your name d\n",
      "Your input name is :  d\n"
     ]
    }
   ],
   "source": [
    "#Python Program to receive input from user\n",
    "\n",
    "\n",
    "name = input('Enter your name ')\n",
    "print('Your input name is : ',name)\n"
   ]
  },
  {
   "cell_type": "code",
   "execution_count": 13,
   "metadata": {},
   "outputs": [
    {
     "name": "stdout",
     "output_type": "stream",
     "text": [
      "Enter first number 1\n",
      "Enter second number 2\n",
      "Product is :  2\n"
     ]
    }
   ],
   "source": [
    "# Accepting integer from the user\n",
    "\n",
    "num1 = int(input('Enter first number '))\n",
    "num2 = int(input('Enter second number '))\n",
    "prod = num1 * num2\n",
    "print('Product is : ',prod)"
   ]
  },
  {
   "cell_type": "code",
   "execution_count": 14,
   "metadata": {},
   "outputs": [
    {
     "name": "stdout",
     "output_type": "stream",
     "text": [
      "Number is good\n"
     ]
    }
   ],
   "source": [
    "# Python program to illustrate \n",
    "# selection statement  using if else statement\n",
    "\n",
    "num = 30\n",
    "if num>50:\n",
    "    print('Number is large ')\n",
    "elif num<50:\n",
    "    print('Number is good')\n",
    "else:\n",
    "    print('Not a valid number')"
   ]
  },
  {
   "cell_type": "markdown",
   "metadata": {},
   "source": [
    "#### Function in Python"
   ]
  },
  {
   "cell_type": "code",
   "execution_count": 15,
   "metadata": {},
   "outputs": [
    {
     "name": "stdout",
     "output_type": "stream",
     "text": [
      "Hello\n",
      "Hello Again\n"
     ]
    }
   ],
   "source": [
    "def func():\n",
    "    print('Hello')\n",
    "    print('Hello Again')\n",
    "\n",
    "#Calling function\n",
    "func()"
   ]
  },
  {
   "cell_type": "code",
   "execution_count": 16,
   "metadata": {},
   "outputs": [
    {
     "name": "stdout",
     "output_type": "stream",
     "text": [
      "Inside Main function\n",
      "Enter the number1\n",
      "1\n"
     ]
    }
   ],
   "source": [
    "def getinteger():\n",
    "    num = int(input('Enter the number'))\n",
    "    return num\n",
    "\n",
    "def main():\n",
    "    print('Inside Main function')\n",
    "    output = getinteger()\n",
    "    print(output)\n",
    "    \n",
    "## now we are required to tell Python  \n",
    "# for 'Main' function existence \n",
    "if __name__=='__main__':\n",
    "    main()\n",
    "    \n",
    "    \n",
    "    "
   ]
  },
  {
   "cell_type": "markdown",
   "metadata": {},
   "source": [
    "#### Iteration : Looping"
   ]
  },
  {
   "cell_type": "code",
   "execution_count": 17,
   "metadata": {},
   "outputs": [
    {
     "name": "stdout",
     "output_type": "stream",
     "text": [
      "0\n",
      "1\n",
      "2\n",
      "3\n",
      "4\n"
     ]
    }
   ],
   "source": [
    "for i in range(5):\n",
    "    print(i)"
   ]
  },
  {
   "cell_type": "markdown",
   "metadata": {},
   "source": [
    "#### Modules"
   ]
  },
  {
   "cell_type": "code",
   "execution_count": 18,
   "metadata": {},
   "outputs": [
    {
     "name": "stdout",
     "output_type": "stream",
     "text": [
      "Enter Number1\n",
      "Absolute number is  1.0\n"
     ]
    }
   ],
   "source": [
    "import math\n",
    "num=float(input('Enter Number'))\n",
    "print('Absolute number is ',math.fabs(num))\n"
   ]
  },
  {
   "cell_type": "markdown",
   "metadata": {},
   "source": [
    "#### Keyword:\n",
    "    \n",
    "    Reserve word in python like True,False,lambda,nonlocal,class,if,else,try etc.."
   ]
  },
  {
   "cell_type": "code",
   "execution_count": 19,
   "metadata": {},
   "outputs": [
    {
     "name": "stdout",
     "output_type": "stream",
     "text": [
      "for is a keyword in python\n",
      "Hello is not a keyword in python\n"
     ]
    }
   ],
   "source": [
    "#Python code to demonstrate the working of the iskeyword ()\n",
    "\n",
    "import keyword\n",
    "\n",
    "s1 = 'for'\n",
    "s2 = 'Hello'\n",
    "\n",
    "if keyword.iskeyword(s1):\n",
    "    print(s1 + ' is a keyword in python')\n",
    "else:\n",
    "    print(s1 + ' is not a keyword in python')\n",
    "    \n",
    "if keyword.iskeyword(s2):\n",
    "    print(s2 + ' is a keyword in python')\n",
    "else:\n",
    "    print(s2 + ' is not a keyword in python')\n",
    "    "
   ]
  },
  {
   "cell_type": "code",
   "execution_count": 20,
   "metadata": {},
   "outputs": [
    {
     "name": "stdout",
     "output_type": "stream",
     "text": [
      "All available keyword in python are: ['False', 'None', 'True', 'and', 'as', 'assert', 'async', 'await', 'break', 'class', 'continue', 'def', 'del', 'elif', 'else', 'except', 'finally', 'for', 'from', 'global', 'if', 'import', 'in', 'is', 'lambda', 'nonlocal', 'not', 'or', 'pass', 'raise', 'return', 'try', 'while', 'with', 'yield']\n"
     ]
    }
   ],
   "source": [
    "#Python code to find all the available keyword\n",
    "\n",
    "import keyword\n",
    "\n",
    "print('All available keyword in python are:', keyword.kwlist)"
   ]
  },
  {
   "cell_type": "code",
   "execution_count": 21,
   "metadata": {},
   "outputs": [
    {
     "name": "stdout",
     "output_type": "stream",
     "text": [
      "Python code to implement \n",
      "\n",
      "S is part Subhradeep Shah\n",
      "\n",
      "Python code to implement is\n",
      "True\n",
      "Check two string equal or not : False\n"
     ]
    }
   ],
   "source": [
    "# Python code to demonstrate working of in and is \n",
    "\n",
    "s1 = 'S'\n",
    "s2 = 'Subhradeep Shah'\n",
    "\n",
    "print('Python code to implement \\n')\n",
    "if s1 in s2:\n",
    "    print(s1 + ' is part '+s2)\n",
    "else:\n",
    "    print(s1 + 'is not part of ' + s2 )\n",
    "    \n",
    "#Python code to implement is \n",
    "\n",
    "print('\\nPython code to implement is')\n",
    "print('' is '') # object identity check \n",
    "print('Check two string equal or not :', s1 is s2)\n",
    "\n",
    "\n"
   ]
  },
  {
   "cell_type": "markdown",
   "metadata": {},
   "source": [
    "<b>global :</b> \n",
    "    \n",
    "    This keyword is used to define a variable inside the function to be of a global scope.\n",
    "\n",
    "\n",
    "<b>non-local :</b> \n",
    "\n",
    "\n",
    "    This keyword works similar to the global, but rather than global, this keyword declares a variable to point to variable of outside enclosing function, in case of nested functions."
   ]
  },
  {
   "cell_type": "code",
   "execution_count": 22,
   "metadata": {},
   "outputs": [
    {
     "name": "stdout",
     "output_type": "stream",
     "text": [
      "Number inside function without reassignment is  10\n",
      "Number with a as reassignment without global keyword inside function  5\n",
      "Value of a changed after global declaration and assignment 5\n",
      "Calling function after reassignment of a\n",
      "Number inside function without reassignment is  5\n"
     ]
    }
   ],
   "source": [
    "#Global keyword\n",
    "\n",
    "a = 10\n",
    "\n",
    "def read():\n",
    "    \n",
    "     print('Number inside function without reassignment is ',a)\n",
    "        \n",
    "def read_another():\n",
    "    a = 5\n",
    "    print('Number with a as reassignment without global keyword inside function ',a)\n",
    "\n",
    "    \n",
    "def read_another_global():\n",
    "    global a\n",
    "    a=5\n",
    "    print('Value of a changed after global declaration and assignment',a)\n",
    "    \n",
    "read()\n",
    "read_another()\n",
    "read_another_global()\n",
    "\n",
    "print('Calling function after reassignment of a')\n",
    "read()\n",
    "    \n"
   ]
  },
  {
   "cell_type": "code",
   "execution_count": 23,
   "metadata": {},
   "outputs": [
    {
     "name": "stdout",
     "output_type": "stream",
     "text": [
      "Without using non local keyword\n",
      "Outer value of a is :  15\n",
      "15\n",
      "With using non local \n",
      "Outer value of a is :  15\n",
      "2\n"
     ]
    }
   ],
   "source": [
    "#Non Local \n",
    "\n",
    "print('Without using non local keyword')\n",
    "def outer():\n",
    "    a = 15\n",
    "    print('Outer value of a is : ',a)\n",
    "    \n",
    "    def inner():\n",
    "        a=2\n",
    "    inner()\n",
    "    print(a)\n",
    "    \n",
    "outer()\n",
    "\n",
    "print('With using non local ')\n",
    "\n",
    "def outer():\n",
    "    a = 15\n",
    "    print('Outer value of a is : ',a)\n",
    "    \n",
    "    def inner():\n",
    "        nonlocal a\n",
    "        a=2\n",
    "    inner()\n",
    "    print(a)\n",
    "    \n",
    "outer()\n",
    "\n",
    "\n",
    "\n",
    "    "
   ]
  },
  {
   "cell_type": "markdown",
   "metadata": {},
   "source": [
    "#### How to assign variable in Python?\n",
    "        \n",
    "        1. Direct Initialization method\n",
    "    \n",
    "       "
   ]
  },
  {
   "cell_type": "code",
   "execution_count": 24,
   "metadata": {},
   "outputs": [
    {
     "name": "stdout",
     "output_type": "stream",
     "text": [
      "Value of a  is: 5\n"
     ]
    }
   ],
   "source": [
    "a = 5\n",
    "print('Value of a  is:',a)"
   ]
  },
  {
   "cell_type": "markdown",
   "metadata": {},
   "source": [
    "<b>     2</b> Using Conditional Operator"
   ]
  },
  {
   "cell_type": "code",
   "execution_count": 25,
   "metadata": {},
   "outputs": [
    {
     "name": "stdout",
     "output_type": "stream",
     "text": [
      "0\n"
     ]
    }
   ],
   "source": [
    "#One liner conditional statement\n",
    "a = 1 if a>20 else 0\n",
    "print(a)"
   ]
  },
  {
   "cell_type": "markdown",
   "metadata": {},
   "source": [
    "<b>How to print in same line in Python without newline?</b>"
   ]
  },
  {
   "cell_type": "code",
   "execution_count": 26,
   "metadata": {},
   "outputs": [
    {
     "name": "stdout",
     "output_type": "stream",
     "text": [
      "Different line for the following code\n",
      "Hi\n",
      "Hello\n",
      "\n",
      "1\n",
      "2\n",
      "3\n",
      "4\n",
      "5\n",
      "\n",
      "\n",
      "Same line print\n",
      "Hi Hello\n",
      "1 2 3 4 5 "
     ]
    }
   ],
   "source": [
    "print('Different line for the following code')\n",
    "print('Hi')\n",
    "print('Hello')\n",
    "\n",
    "a = [1,2,3,4,5]\n",
    "print('')\n",
    "for i in range(5):\n",
    "    print(a[i])\n",
    "    \n",
    "# Same line print\n",
    "print('\\n')\n",
    "print('Same line print')\n",
    "print('Hi',end=' ')\n",
    "print('Hello')\n",
    "\n",
    "a = [1,2,3,4,5]\n",
    "for i in range(5):\n",
    "    print(a[i],end=' ')\n"
   ]
  },
  {
   "cell_type": "markdown",
   "metadata": {},
   "source": [
    "#### Basic Calculator using Python"
   ]
  },
  {
   "cell_type": "code",
   "execution_count": 27,
   "metadata": {},
   "outputs": [
    {
     "name": "stdout",
     "output_type": "stream",
     "text": [
      "Enter your operation to be performed: \n",
      "\n",
      " 1-Addition\n",
      " 2-Subtraction \n",
      " 3-Multiplication \n",
      " 4- Division\n",
      "\n",
      "Enter your selection 2\n",
      "Enter first number 1\n",
      "Enter second number 2\n",
      "Subtraction of two number is  -1\n"
     ]
    }
   ],
   "source": [
    "\n",
    "#Function to add two numbers\n",
    "def add(num1,num2):\n",
    "    return num1+num2 \n",
    "\n",
    "#Function to subtract two numbers\n",
    "def sub(num1,num2):\n",
    "    return num1-num2 \n",
    "\n",
    "#Function to multiply two numbers\n",
    "def mul(num1,num2):\n",
    "    return num1*num2 \n",
    "\n",
    "#Function to divide two numbers\n",
    "def div(num1,num2):\n",
    "    return num1/num2 \n",
    "\n",
    "\n",
    "print('Enter your operation to be performed: \\n')\n",
    "print(' 1-Addition\\n 2-Subtraction \\n 3-Multiplication \\n 4- Division\\n')\n",
    "\n",
    "select = input('Enter your selection ')\n",
    "number1 = int(input('Enter first number '))\n",
    "number2 = int(input('Enter second number '))\n",
    "\n",
    "if select == '1': \n",
    "    print('Addition of two' ,add(number1, number2))\n",
    "    \n",
    "elif select == '2': \n",
    "    print('Subtraction of two number is ',sub(number1, number2))\n",
    "    \n",
    "elif select == '3': \n",
    "    print('Multiplication of two number is ',mul(number1, number2))\n",
    "    \n",
    "elif select == '4': \n",
    "    print('Division of two number is ',div(number1, number2))\n",
    "    \n",
    "else:\n",
    "    print('Invalid Operator')\n",
    "    \n",
    "\n",
    "\n",
    "\n",
    "\n",
    "\n"
   ]
  },
  {
   "cell_type": "markdown",
   "metadata": {},
   "source": [
    "### Converting a list to Array\n",
    "\n",
    "Import numpy and convert the list using a numpy array"
   ]
  },
  {
   "cell_type": "code",
   "execution_count": 64,
   "metadata": {},
   "outputs": [
    {
     "name": "stdout",
     "output_type": "stream",
     "text": [
      "Type before conversion <class 'list'>\n",
      "After conversion of list to array <class 'numpy.ndarray'>\n"
     ]
    }
   ],
   "source": [
    "import numpy as np\n",
    "\n",
    "list2 = [2,3,4,5,6,7]\n",
    "\n",
    "print('Type before conversion',type(list2))\n",
    "\n",
    "list2 = np.array(list2)\n",
    "print('After conversion of list to array',type(list2))"
   ]
  },
  {
   "cell_type": "markdown",
   "metadata": {},
   "source": [
    "#### Mathematical operation of array"
   ]
  },
  {
   "cell_type": "code",
   "execution_count": 71,
   "metadata": {},
   "outputs": [
    {
     "name": "stdout",
     "output_type": "stream",
     "text": [
      "Multiplication of each element\n",
      "\n",
      "Before operation  [2 3 4 5 6 7]\n",
      "After multiplying each element of list with value 2,\n",
      "Final list is [ 4  6  8 10 12 14]\n"
     ]
    }
   ],
   "source": [
    "print('Multiplication of each element')\n",
    "print('\\nBefore operation ',list2)\n",
    "\n",
    "print('After multiplying each element of list with value 2,\\nFinal list is',list2*2)"
   ]
  },
  {
   "cell_type": "markdown",
   "metadata": {},
   "source": [
    "#### Numpy with arithmetic operator functions differently"
   ]
  },
  {
   "cell_type": "code",
   "execution_count": 73,
   "metadata": {},
   "outputs": [
    {
     "data": {
      "text/plain": [
       "array([4, 5, 2])"
      ]
     },
     "execution_count": 73,
     "metadata": {},
     "output_type": "execute_result"
    }
   ],
   "source": [
    "np.array([True, 1, 2]) + np.array([3, 4, False])"
   ]
  },
  {
   "cell_type": "markdown",
   "metadata": {},
   "source": [
    "#### Subsetting Numpy Arrays"
   ]
  },
  {
   "cell_type": "code",
   "execution_count": 77,
   "metadata": {},
   "outputs": [
    {
     "name": "stdout",
     "output_type": "stream",
     "text": [
      "List element are [2 3 4 5 6 7]\n"
     ]
    },
    {
     "data": {
      "text/plain": [
       "array([4, 5])"
      ]
     },
     "execution_count": 77,
     "metadata": {},
     "output_type": "execute_result"
    }
   ],
   "source": [
    "print('List element are',list2)\n",
    "list2[2:4]"
   ]
  },
  {
   "cell_type": "markdown",
   "metadata": {},
   "source": [
    "### 2D Numpy Array"
   ]
  },
  {
   "cell_type": "code",
   "execution_count": 84,
   "metadata": {},
   "outputs": [
    {
     "name": "stdout",
     "output_type": "stream",
     "text": [
      "<class 'numpy.ndarray'>\n",
      "Shape of array (3, 2)\n"
     ]
    }
   ],
   "source": [
    "num = [[1,2],[2,3],[4,5]]\n",
    "\n",
    "num = np.array(num)\n",
    "print(type(num))\n",
    "print('Shape of array',num.shape)\n"
   ]
  },
  {
   "cell_type": "markdown",
   "metadata": {},
   "source": [
    "#### Subsetting 2D Array"
   ]
  },
  {
   "cell_type": "code",
   "execution_count": 89,
   "metadata": {},
   "outputs": [
    {
     "name": "stdout",
     "output_type": "stream",
     "text": [
      "Printing Second element in the list  [2 3]\n"
     ]
    }
   ],
   "source": [
    "print('Printing Second element in the list ',num[1])"
   ]
  },
  {
   "cell_type": "markdown",
   "metadata": {},
   "source": [
    "#### Numpy package to find Mean,Median"
   ]
  },
  {
   "cell_type": "code",
   "execution_count": 99,
   "metadata": {},
   "outputs": [
    {
     "name": "stdout",
     "output_type": "stream",
     "text": [
      "Mean value of list is  7.0\n",
      "Median value of list is  8.0\n"
     ]
    }
   ],
   "source": [
    "num2 = [1,4,8,10,12]\n",
    "\n",
    "print('Mean value of list is ',np.mean(num2))\n",
    "print('Median value of list is ',np.median(num2))\n"
   ]
  },
  {
   "cell_type": "code",
   "execution_count": null,
   "metadata": {},
   "outputs": [],
   "source": []
  }
 ],
 "metadata": {
  "kernelspec": {
   "display_name": "Python 3",
   "language": "python",
   "name": "python3"
  },
  "language_info": {
   "codemirror_mode": {
    "name": "ipython",
    "version": 3
   },
   "file_extension": ".py",
   "mimetype": "text/x-python",
   "name": "python",
   "nbconvert_exporter": "python",
   "pygments_lexer": "ipython3",
   "version": "3.7.6"
  }
 },
 "nbformat": 4,
 "nbformat_minor": 2
}
